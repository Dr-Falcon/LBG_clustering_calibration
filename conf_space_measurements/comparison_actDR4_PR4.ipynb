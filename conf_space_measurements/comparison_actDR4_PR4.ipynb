{
 "cells": [
  {
   "cell_type": "code",
   "execution_count": 1,
   "id": "28a4adab",
   "metadata": {},
   "outputs": [],
   "source": [
    "import numpy as np\n",
    "import healpy as hp\n",
    "import matplotlib.pyplot as plt"
   ]
  },
  {
   "cell_type": "code",
   "execution_count": 2,
   "id": "fa4d0fc9",
   "metadata": {},
   "outputs": [],
   "source": [
    "#reading ACT maps\n",
    "map_act_D56 = hp.read_map('../../fits/HSC_ACT/lensing_kappa_maps/hp_act_planck_dr4.01_s14s15_D56_lensing_kappa_baseline_nside2048.fits')\n",
    "map_act_BN = hp.read_map('../../fits/HSC_ACT/lensing_kappa_maps/hp_act_planck_dr4.01_s14s15_BN_lensing_kappa_baseline_nside2048.fits')\n",
    "mask_act_D56 = hp.read_map('../../fits/HSC_ACT/lensing_masks/hp_act_dr4.01_s14s15_D56_lensing_mask_nside2048.fits')\n",
    "mask_act_BN = hp.read_map('../../fits/HSC_ACT/lensing_masks/hp_act_dr4.01_s14s15_BN_lensing_mask_nside2048.fits')"
   ]
  },
  {
   "cell_type": "code",
   "execution_count": 3,
   "id": "9432f75a",
   "metadata": {},
   "outputs": [],
   "source": [
    "#reading PR4 maps\n",
    "map_PR4 = hp.read_map('../../data/planckPR4/PR4_variations/map.fits')\n",
    "mask_PR4 = hp.read_map('../../data/planckPR4/PR4_variations/mask.fits')\n",
    "nside = 2048\n",
    "map_PR4 = hp.ud_grade(map_PR4,nside_out=nside)\n",
    "mask_PR4 = hp.ud_grade(mask_PR4,nside_out=nside)"
   ]
  },
  {
   "cell_type": "code",
   "execution_count": 4,
   "id": "78afa299",
   "metadata": {},
   "outputs": [],
   "source": [
    "#rotator btw celestial and galactic\n",
    "def change_coord(m, coord):\n",
    "\n",
    "    # Basic HEALPix parameters                                                            \n",
    "    npix = m.shape[-1]\n",
    "    nside = hp.npix2nside(npix)\n",
    "    ang = hp.pix2ang(nside, np.arange(npix))\n",
    "\n",
    "    # Select the coordinate transformation                                                \n",
    "    rot = hp.Rotator(coord=reversed(coord))\n",
    "\n",
    "    # Convert the coordinates                                                             \n",
    "    new_ang = rot(*ang)\n",
    "    new_pix = hp.ang2pix(nside, *new_ang)\n",
    "\n",
    "    return m[..., new_pix]"
   ]
  },
  {
   "cell_type": "code",
   "execution_count": 5,
   "id": "97dd8a2d",
   "metadata": {},
   "outputs": [],
   "source": [
    "#rotation G to C \n",
    "#map_PR4 = change_coord(map_PR4,['G','C'])\n",
    "#mask_PR4 = change_coord(mask_PR4,['G','C'])"
   ]
  },
  {
   "cell_type": "code",
   "execution_count": 6,
   "id": "17567baf",
   "metadata": {},
   "outputs": [
    {
     "name": "stdout",
     "output_type": "stream",
     "text": [
      "lmin_D56 = 42.000000,lmin_BN = 13.000000\n"
     ]
    }
   ],
   "source": [
    "# configurations\n",
    "lmax = 2000\n",
    "lmin_D56 = np.ceil(1./(2.*np.mean(mask_act_D56)))\n",
    "lmin_BN = np.ceil(1./(2.*np.mean(mask_act_BN)))\n",
    "print('lmin_D56 = %f,lmin_BN = %f'%(lmin_D56,lmin_BN))"
   ]
  },
  {
   "cell_type": "code",
   "execution_count": 7,
   "id": "d17cfece",
   "metadata": {},
   "outputs": [],
   "source": [
    "#measurements\n",
    "cl_act_D56 = hp.anafast(map_act_D56*mask_act_D56,map_act_D56*mask_act_D56)\n",
    "cl_act_BN = hp.anafast(map_act_BN*mask_act_BN,map_act_BN*mask_act_BN)\n",
    "cl_PR4 = hp.anafast(map_PR4*mask_PR4,map_PR4*mask_PR4)\n",
    "ell_act_D56 = np.arange(len(cl_act_D56))\n",
    "ell_act_BN = np.arange(len(cl_act_BN))\n",
    "ell_PR4 = np.arange(len(cl_PR4))"
   ]
  },
  {
   "cell_type": "code",
   "execution_count": 8,
   "id": "918e437c",
   "metadata": {},
   "outputs": [
    {
     "name": "stdout",
     "output_type": "stream",
     "text": [
      "0.012169853506018957 0.04162511312347254 0.6701701084772745\n"
     ]
    }
   ],
   "source": [
    "# map renormalisations\n",
    "fsky_D56 = np.mean(mask_act_D56)\n",
    "fsky_BN = np.mean(mask_act_BN)\n",
    "fsky_PR4 = np.mean(mask_PR4)\n",
    "print(fsky_D56,fsky_BN,fsky_PR4)\n",
    "cl_act_D56 = cl_act_D56/fsky_D56\n",
    "cl_act_BN = cl_act_BN/fsky_BN\n",
    "cl_PR4 = cl_PR4/fsky_PR4"
   ]
  },
  {
   "cell_type": "code",
   "execution_count": 9,
   "id": "85896dc2",
   "metadata": {},
   "outputs": [
    {
     "data": {
      "text/plain": [
       "\"\\n#noise correction of PR4\\nnlkk = np.loadtxt('../../data/planck2018/MV/nlkk.dat')[:,1]\\ncl_PR4 = cl_PR4[:lmax] - nlkk[:lmax]\\nell_PR4 = ell_PR4[:lmax]\\nplt.plot(ell_PR4,cl_PR4)\\nplt.show()\\n\""
      ]
     },
     "execution_count": 9,
     "metadata": {},
     "output_type": "execute_result"
    }
   ],
   "source": [
    "'''\n",
    "#noise correction of PR4\n",
    "nlkk = np.loadtxt('../../data/planck2018/MV/nlkk.dat')[:,1]\n",
    "cl_PR4 = cl_PR4[:lmax] - nlkk[:lmax]\n",
    "ell_PR4 = ell_PR4[:lmax]\n",
    "plt.plot(ell_PR4,cl_PR4)\n",
    "plt.show()\n",
    "'''"
   ]
  },
  {
   "cell_type": "code",
   "execution_count": 10,
   "id": "150b4008",
   "metadata": {},
   "outputs": [],
   "source": [
    "#binning\n",
    "# Bin the resulting spectra as well as the ell values\n",
    "bins = np.linspace(50, 2000, 20)\n",
    "digitized_act_D56 = np.digitize(ell_act_D56, bins)\n",
    "digitized_act_BN = np.digitize(ell_act_BN, bins)\n",
    "digitized_PR4 = np.digitize(ell_PR4, bins)\n",
    "cl_act_D56_binned  = [cl_act_D56[digitized_act_D56 == i].mean() for i in range(1, len(bins))]\n",
    "ell_act_D56_binned = [ell_act_D56[digitized_act_D56 == i].mean() for i in range(1, len(bins))]\n",
    "cl_act_BN_binned  = [cl_act_BN[digitized_act_BN == i].mean() for i in range(1, len(bins))]\n",
    "ell_act_BN_binned = [ell_act_BN[digitized_act_BN == i].mean() for i in range(1, len(bins))]\n",
    "cl_PR4_binned  = [cl_PR4[digitized_PR4 == i].mean() for i in range(1, len(bins))]\n",
    "ell_PR4_binned = [ell_PR4[digitized_PR4 == i].mean() for i in range(1, len(bins))]"
   ]
  },
  {
   "cell_type": "code",
   "execution_count": 11,
   "id": "278f4514",
   "metadata": {},
   "outputs": [
    {
     "data": {
      "text/plain": [
       "'\\n#computation of a theory\\nimport theory as th\\nimport numpy as np\\nell = np.arange(3000)\\ncl = th.get_clkk(ell)\\n'"
      ]
     },
     "execution_count": 11,
     "metadata": {},
     "output_type": "execute_result"
    }
   ],
   "source": [
    "'''\n",
    "#computation of a theory\n",
    "import theory as th\n",
    "import numpy as np\n",
    "ell = np.arange(3000)\n",
    "cl = th.get_clkk(ell)\n",
    "'''"
   ]
  },
  {
   "cell_type": "code",
   "execution_count": 12,
   "id": "4359a7f9",
   "metadata": {},
   "outputs": [
    {
     "data": {
      "image/png": "[encoded data removed]",
      "text/plain": [
       "<Figure size 576x432 with 1 Axes>"
      ]
     },
     "metadata": {
      "needs_background": "light"
     },
     "output_type": "display_data"
    }
   ],
   "source": [
    "# Now plot the quick powerspectrum we just made\n",
    "plt.figure(figsize = (8,6))\n",
    "plt.rc('font', family='serif')\n",
    "#plt.plot(ell_binned,cl_binned,marker=\"o\",ls=\"none\")\n",
    "#plt.plot(ell,ell*(ell+np.ones(len(ell)))*cl,ls='solid',color='red',label='theory')\n",
    "plt.plot(ell_act_D56_binned,(ell_act_D56_binned)*(ell_act_D56_binned+np.ones(len(ell_act_D56_binned)))*cl_act_D56_binned/(2.*np.pi),marker=\"o\",ls=\"none\",label='ACT D56')\n",
    "plt.plot(ell_act_BN_binned,(ell_act_BN_binned)*(ell_act_BN_binned+np.ones(len(ell_act_BN_binned)))*cl_act_BN_binned/(2.*np.pi),marker=\"o\",ls=\"none\",label='ACT BN')\n",
    "plt.plot(ell_PR4_binned,(ell_PR4_binned)*(ell_PR4_binned+np.ones(len(ell_PR4_binned)))*cl_PR4_binned/(2.*np.pi),marker=\"o\",ls=\"none\",label='PR4')\n",
    "#plt.plot(ell_act_D56_binned,cl_act_D56_binned,marker=\"o\",ls=\"none\",label='ACT D56')\n",
    "#plt.plot(ell_act_BN_binned,cl_act_BN_binned,marker=\"o\",ls=\"none\",label='ACT BN')\n",
    "plt.yscale('log')\n",
    "plt.xlabel('L', fontsize = 22)\n",
    "plt.ylabel('$C_{L}$', fontsize = 22)\n",
    "#plt.title(\"CMASS Galaxies x ACT Lensing Map\", fontsize = 20)\n",
    "plt.title(\"ACT vs. PR4\", fontsize = 20)\n",
    "plt.grid(True)\n",
    "plt.legend()\n",
    "plt.show()"
   ]
  },
  {
   "cell_type": "code",
   "execution_count": null,
   "id": "48799ae5",
   "metadata": {},
   "outputs": [],
   "source": []
  }
 ],
 "metadata": {
  "kernelspec": {
   "display_name": "Python 3 (ipykernel)",
   "language": "python",
   "name": "python3"
  },
  "language_info": {
   "codemirror_mode": {
    "name": "ipython",
    "version": 3
   },
   "file_extension": ".py",
   "mimetype": "text/x-python",
   "name": "python",
   "nbconvert_exporter": "python",
   "pygments_lexer": "ipython3",
   "version": "3.9.12"
  }
 },
 "nbformat": 4,
 "nbformat_minor": 5
}
