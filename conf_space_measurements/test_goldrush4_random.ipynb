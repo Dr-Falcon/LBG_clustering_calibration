{
 "cells": [
  {
   "cell_type": "code",
   "execution_count": 1,
   "id": "46602aee",
   "metadata": {},
   "outputs": [],
   "source": [
    "import numpy as np\n",
    "import matplotlib.pyplot as plt"
   ]
  },
  {
   "cell_type": "code",
   "execution_count": 2,
   "id": "bbc079a0",
   "metadata": {},
   "outputs": [],
   "source": [
    "#define the luminosity function of LBG galaxy around redshift 4\n",
    "def phi_gal(M_UV):\n",
    "    phi_star = np.power(10.,-2.52)\n",
    "    Mstar_UV = -20.49\n",
    "    a = -1.59    \n",
    "    return (np.log(10.)/2.5)*phi_star*np.power(10.,-0.4*(M_UV-Mstar_UV)*(1.+a))*np.exp(-np.power(10.,-0.4*(M_UV-Mstar_UV)))"
   ]
  },
  {
   "cell_type": "code",
   "execution_count": 3,
   "id": "2b7c43a2",
   "metadata": {},
   "outputs": [],
   "source": [
    "def phi_gal2(M_UV):\n",
    "    phi_star = np.power(10.,-3.00)\n",
    "    Mstar_UV = -20.99\n",
    "    a = -1.86\n",
    "    b = -4.77\n",
    "    return (np.log(10.)/2.5)*phi_star/(np.power(10.,0.4*(M_UV-Mstar_UV)*(1.+a)) + np.power(10.,0.4*(M_UV-Mstar_UV)*(1.+b)))"
   ]
  },
  {
   "cell_type": "code",
   "execution_count": null,
   "id": "07cd77e5",
   "metadata": {},
   "outputs": [],
   "source": [
    "def phi_AGN(M_UV):\n",
    "    phi_star = np.power(10.,-8.00)\n",
    "    Mstar_UV = -27.49\n",
    "    a = -1.59\n",
    "    b = \n",
    "    return (np.log(10.)/2.5)*phi_star/(np.power(10.,0.4*(M_UV-Mstar_UV)*(1.+a)) + np.power(10.,0.4*(M_UV-Mstar_UV)*(1.+b)))"
   ]
  },
  {
   "cell_type": "code",
   "execution_count": 4,
   "id": "1b43c4fa",
   "metadata": {},
   "outputs": [
    {
     "data": {
      "image/png": "[encoded data removed]",
      "text/plain": [
       "<Figure size 432x288 with 1 Axes>"
      ]
     },
     "metadata": {
      "needs_background": "light"
     },
     "output_type": "display_data"
    }
   ],
   "source": [
    "M_UV = np.linspace(-28.,-20.)\n",
    "phi = phi_gal(M_UV)\n",
    "phi2 = phi_gal2(M_UV)\n",
    "plt.yscale('log')\n",
    "#plt.plot(M_UV,phi,color='red')\n",
    "plt.plot(M_UV,phi2,color='blue')\n",
    "plt.plot(M_UV,phi + phi2,color='gold')\n",
    "plt.show()"
   ]
  },
  {
   "cell_type": "code",
   "execution_count": null,
   "id": "79f79ae0",
   "metadata": {},
   "outputs": [],
   "source": []
  }
 ],
 "metadata": {
  "kernelspec": {
   "display_name": "Python 3 (ipykernel)",
   "language": "python",
   "name": "python3"
  },
  "language_info": {
   "codemirror_mode": {
    "name": "ipython",
    "version": 3
   },
   "file_extension": ".py",
   "mimetype": "text/x-python",
   "name": "python",
   "nbconvert_exporter": "python",
   "pygments_lexer": "ipython3",
   "version": "3.9.12"
  }
 },
 "nbformat": 4,
 "nbformat_minor": 5
}
